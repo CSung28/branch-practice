{
 "cells": [
  {
   "cell_type": "code",
   "execution_count": 1,
   "id": "5adfa908",
   "metadata": {
    "ExecuteTime": {
     "end_time": "2022-08-18T05:25:22.187739Z",
     "start_time": "2022-08-18T05:25:22.178763Z"
    }
   },
   "outputs": [],
   "source": [
    "from random import randint"
   ]
  },
  {
   "cell_type": "code",
   "execution_count": 10,
   "id": "80f3dc98",
   "metadata": {
    "ExecuteTime": {
     "end_time": "2022-08-18T05:47:57.348626Z",
     "start_time": "2022-08-18T05:47:49.244594Z"
    }
   },
   "outputs": [
    {
     "name": "stdout",
     "output_type": "stream",
     "text": [
      "64\n",
      "Guess the number between 1 to 100: 16\n",
      "Up!\n",
      "Guess the number between 1 to 100: 32\n",
      "Up!\n",
      "Guess the number between 1 to 100: 70\n",
      "Down!\n",
      "Guess the number between 1 to 100: 64\n",
      "That's correct!\n"
     ]
    }
   ],
   "source": [
    "answer = randint(1, 100)\n",
    "print(answer)\n",
    "\n",
    "while True:\n",
    "    guess = int(input('Guess the number between 1 to 100: '))\n",
    "    if answer == guess:\n",
    "        print('''That's correct!''')\n",
    "        break\n",
    "    elif answer > guess: \n",
    "        print('Up!')\n",
    "    elif answer < guess:\n",
    "        print('Down!')"
   ]
  },
  {
   "cell_type": "code",
   "execution_count": null,
   "id": "0aa97ba7",
   "metadata": {},
   "outputs": [],
   "source": []
  }
 ],
 "metadata": {
  "kernelspec": {
   "display_name": "Python 3 (ipykernel)",
   "language": "python",
   "name": "python3"
  },
  "language_info": {
   "codemirror_mode": {
    "name": "ipython",
    "version": 3
   },
   "file_extension": ".py",
   "mimetype": "text/x-python",
   "name": "python",
   "nbconvert_exporter": "python",
   "pygments_lexer": "ipython3",
   "version": "3.9.12"
  },
  "toc": {
   "base_numbering": 1,
   "nav_menu": {},
   "number_sections": true,
   "sideBar": true,
   "skip_h1_title": false,
   "title_cell": "Table of Contents",
   "title_sidebar": "Contents",
   "toc_cell": false,
   "toc_position": {},
   "toc_section_display": true,
   "toc_window_display": false
  },
  "varInspector": {
   "cols": {
    "lenName": 16,
    "lenType": 16,
    "lenVar": 40
   },
   "kernels_config": {
    "python": {
     "delete_cmd_postfix": "",
     "delete_cmd_prefix": "del ",
     "library": "var_list.py",
     "varRefreshCmd": "print(var_dic_list())"
    },
    "r": {
     "delete_cmd_postfix": ") ",
     "delete_cmd_prefix": "rm(",
     "library": "var_list.r",
     "varRefreshCmd": "cat(var_dic_list()) "
    }
   },
   "types_to_exclude": [
    "module",
    "function",
    "builtin_function_or_method",
    "instance",
    "_Feature"
   ],
   "window_display": false
  }
 },
 "nbformat": 4,
 "nbformat_minor": 5
}
